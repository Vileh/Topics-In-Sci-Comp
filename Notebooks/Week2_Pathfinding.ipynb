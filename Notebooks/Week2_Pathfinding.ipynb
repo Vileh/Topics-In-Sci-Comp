{
 "cells": [
  {
   "cell_type": "markdown",
   "metadata": {},
   "source": [
    "## Week 2 Pathfinding\n",
    "\n",
    "This notebook implements a pathfinding algorithm which finds the best path given a map of asteroids and minshara plantes. "
   ]
  },
  {
   "cell_type": "code",
   "execution_count": 17,
   "metadata": {},
   "outputs": [],
   "source": [
    "# first we import the libraries we need\n",
    "import numpy as np\n",
    "import matplotlib.pyplot as plt\n",
    "\n",
    "from scipy.sparse import csr_matrix\n",
    "from scipy.sparse.csgraph import shortest_path\n",
    "\n",
    "import time"
   ]
  },
  {
   "cell_type": "markdown",
   "metadata": {},
   "source": [
    "### Defining functions"
   ]
  },
  {
   "cell_type": "code",
   "execution_count": 56,
   "metadata": {},
   "outputs": [],
   "source": [
    "# Function that generates random asteroids\n",
    "def generate_asteroids(minshara = False):\n",
    "    # Customise the length of the field\n",
    "    length = 20\n",
    "    asteroids = []\n",
    "    minsharas = []\n",
    "\n",
    "    for i in range(1, length):\n",
    "        possible_ys = [j for j in range(-4, 5, 1)]\n",
    "        if np.random.uniform() > 0.2:\n",
    "            new = possible_ys.pop(np.random.choice(possible_ys))\n",
    "            asteroids.append([i, new])\n",
    "            if np.random.uniform() > 0.5:\n",
    "                new = possible_ys.pop(np.random.choice(possible_ys))\n",
    "                asteroids.append([i, new])\n",
    "        if minshara and np.random.uniform() > 0.5:\n",
    "            new = possible_ys.pop(np.random.choice(possible_ys))\n",
    "            minsharas.append([i, new])\n",
    "    \n",
    "    return asteroids, minsharas\n",
    "\n",
    "asteroids, minsharas = generate_asteroids()"
   ]
  },
  {
   "cell_type": "code",
   "execution_count": 19,
   "metadata": {},
   "outputs": [],
   "source": [
    "# Function that generates a map given asteroids and minsharas\n",
    "def generate_map(asteroid_locations, minshara_locations = None):\n",
    "    if minshara_locations:\n",
    "        all_locations = np.concatenate((asteroid_locations, minshara_locations), axis=0)\n",
    "    else:\n",
    "        all_locations = asteroid_locations\n",
    "    max_up = int(max(all_locations, key=lambda x: x[1])[1])\n",
    "    max_down = int(min(all_locations, key=lambda x: x[1])[1])\n",
    "    start = -max_down + 1\n",
    "    height = max_up - max_down + 3\n",
    "    length = int(max(all_locations, key=lambda x: x[0])[0]) + 3\n",
    "    \n",
    "    map = np.zeros((length, height))\n",
    "    for location in asteroid_locations :\n",
    "        map[int(location[0])][int(location[1]) - max_down + 1] = -100\n",
    "    if minshara_locations:\n",
    "        for location in minshara_locations :\n",
    "            map[int(location[0])][int(location[1]) - max_down + 1] = -50\n",
    "\n",
    "    map[0][-max_down + 1] = 1\n",
    "\n",
    "    return map, length-1, height, start"
   ]
  },
  {
   "cell_type": "code",
   "execution_count": 20,
   "metadata": {},
   "outputs": [],
   "source": [
    "# Function that generates graph representing the distances and connections between positions\n",
    "def generate_graph(map, height, length, start):\n",
    "    grid = [[0 for x in range(height * length + 1)] for y in range(height * length + 1)]\n",
    "\n",
    "    # distances from initial position\n",
    "    for coordinate_next in range(0, height):\n",
    "        # Find the coordinates of the asteroids in this and next column\n",
    "        asteroid_next_ys = [int(location) for location in range(len(map[1])) if map[1][location] == -100]\n",
    "        asteroid_current_ys = [int(location) for location in range(len(map[0])) if map[0][location] == -100]\n",
    "        if coordinate_next not in asteroid_next_ys:\n",
    "            if coordinate_next == start:\n",
    "                grid[0][coordinate_next+1] = 1\n",
    "            \n",
    "            available = True\n",
    "            for asteroid in asteroid_next_ys:\n",
    "                if (asteroid > coordinate_next and asteroid < start) or (asteroid < coordinate_next and asteroid > start):\n",
    "                    if np.absolute(asteroid - coordinate_next)/np.sqrt((start - coordinate_next)**2 + 1) <= 0.5:\n",
    "                        available = False\n",
    "            \n",
    "            for asteroid in asteroid_current_ys:\n",
    "                if (asteroid > coordinate_next and asteroid < start) or (asteroid < coordinate_next and asteroid > start):\n",
    "                    if np.absolute(asteroid - start)/np.sqrt((start - coordinate_next)**2 + 1) <= 0.5:\n",
    "                        available = False          \n",
    "                    \n",
    "            if available:\n",
    "                if map[1][coordinate_next] == -50:\n",
    "                    grid[0][coordinate_next+1] = np.sqrt((start - coordinate_next)**2 + 1) - 50\n",
    "                else:\n",
    "                    grid[0][coordinate_next+1] = np.sqrt((start - coordinate_next)**2 + 1)\n",
    "                        \n",
    "    # distances from other positions\n",
    "    for current_time in range(1, length):\n",
    "        for start in range(0, height):\n",
    "            for coordinate_next in range(0, height):\n",
    "                # Find the coordinates of the asteroids in this and next column\n",
    "                asteroid_next_ys = [int(location) for location in range(len(map[current_time+1])) if map[current_time+1][location] == -100]\n",
    "                asteroid_current_ys = [int(location) for location in range(len(map[current_time])) if map[current_time][location] == -100]\n",
    "                if coordinate_next not in asteroid_next_ys:\n",
    "                    if coordinate_next == start:\n",
    "                        grid[1+(current_time-1)*height+start][coordinate_next+1+height*current_time] = 1\n",
    "                    \n",
    "                    available = True\n",
    "                    for asteroid in asteroid_next_ys:\n",
    "                        if (asteroid > coordinate_next and asteroid < start) or (asteroid < coordinate_next and asteroid > start):\n",
    "                            if np.absolute(asteroid - coordinate_next)/np.sqrt((start - coordinate_next)**2 + 1) <= 0.5:\n",
    "                                available = False\n",
    "                    \n",
    "                    for asteroid in asteroid_current_ys:\n",
    "                        if (asteroid > coordinate_next and asteroid < start) or (asteroid < coordinate_next and asteroid > start):\n",
    "                            if np.absolute(asteroid - start)/np.sqrt((start - coordinate_next)**2 + 1) <= 0.5:\n",
    "                                available = False    \n",
    "                            \n",
    "                    if available:\n",
    "                        if map[current_time+1][coordinate_next] == -50:\n",
    "                            grid[1+(current_time-1)*height+start][coordinate_next+1+height*current_time] = np.sqrt((start - coordinate_next)**2 + 1) - 50\n",
    "                        else:\n",
    "                            grid[1+(current_time-1)*height+start][coordinate_next+1+height*current_time] = np.sqrt((start - coordinate_next)**2 + 1)\n",
    "                    \n",
    "    return grid"
   ]
  },
  {
   "cell_type": "code",
   "execution_count": 21,
   "metadata": {},
   "outputs": [],
   "source": [
    "# Function that generates the path to follow\n",
    "def generate_path(asteroid_locations, minshara_locations = None):\n",
    "    map, length, height, start_initially = generate_map(asteroid_locations, minshara_locations)\n",
    "    start_time = time.time()\n",
    "    grid = generate_graph(map, height, length, start_initially)\n",
    "    end_time = time.time()\n",
    "\n",
    "    print(\"Time taken to generate graph: \", end_time - start_time)\n",
    "\n",
    "    graph = csr_matrix(grid)\n",
    "\n",
    "    start_time = time.time()\n",
    "    _, predecessors = shortest_path(csgraph=graph, directed=True, method='BF', indices=0, return_predecessors=True)\n",
    "\n",
    "    index_end = len(grid[0]) - height + start_initially\n",
    "    path = [index_end % height - 1 - start_initially]\n",
    "\n",
    "    while predecessors[index_end] != -9999:\n",
    "        next_index = predecessors[index_end] % height - 1 - start_initially\n",
    "        if predecessors[index_end] % height == 0:\n",
    "            next_index = height - 1 - start_initially\n",
    "        path.append(next_index)\n",
    "        index_end = predecessors[index_end]\n",
    "\n",
    "    path.reverse()\n",
    "    path[0] = 0\n",
    "\n",
    "    end_time = time.time()\n",
    "    print(\"Time taken to find path: \", end_time - start_time)\n",
    "\n",
    "    return path"
   ]
  },
  {
   "cell_type": "code",
   "execution_count": 22,
   "metadata": {},
   "outputs": [],
   "source": [
    "# Finction to find distance of path\n",
    "def get_distance(path):\n",
    "    distance = 0\n",
    "    for i in range(1, len(path)):\n",
    "        distance += np.sqrt((path[i] - path[i-1])**2 + 1)\n",
    "    return distance"
   ]
  },
  {
   "cell_type": "code",
   "execution_count": 23,
   "metadata": {},
   "outputs": [],
   "source": [
    "# Function to plot map and path given asteroid and minshara locations\n",
    "def plot_map_and_path(ax,asteroid_locations, minshara_locations = None) :\n",
    "    _, length, height, start = generate_map(asteroid_locations, minshara_locations)\n",
    "    path = generate_path(asteroid_locations, minshara_locations)\n",
    "\n",
    "    print(\"Path taken: \", path)\n",
    "\n",
    "    plt.axis([0, length, -start-0.5, height - start - 0.5])\n",
    "    major_ticks_xs = np.arange(0, length, 1)\n",
    "    major_ticks_ys = np.arange(-start, height - start, 1)\n",
    "    ax.set_xticks(major_ticks_xs)\n",
    "    ax.set_yticks(major_ticks_ys)\n",
    "    plt.xlabel(\"time / x position\")\n",
    "    plt.ylabel(\"position\")\n",
    "    ax.set_aspect('equal')\n",
    "    ax.grid(which='major', alpha=0.8)\n",
    "\n",
    "    for location in asteroid_locations :\n",
    "        circle=plt.Circle(location, 0.5 , color='r')\n",
    "        ax.add_artist(circle)\n",
    "\n",
    "    if minshara_locations is not None:\n",
    "        for location in minshara_locations :\n",
    "            circle=plt.Circle(location, 0.5 , color='b')\n",
    "            ax.add_artist(circle)\n",
    "\n",
    "    list_of_times = np.arange(0, length+1, 1)\n",
    "    \n",
    "    # go through the list of times, where index is the index within the \n",
    "    # list, and time_now is the entry at that index\n",
    "    for index, time_now in enumerate(list_of_times) :\n",
    "        position_now = path[index]\n",
    "        ax.plot(time_now, position_now, 'o')\n",
    "\n",
    "    ax.plot(list_of_times, path, 'g-')\n",
    "\n",
    "    print(\"Distance travelled: \", get_distance(path))"
   ]
  },
  {
   "cell_type": "markdown",
   "metadata": {},
   "source": [
    "### Plotting a random map and the best path"
   ]
  },
  {
   "cell_type": "code",
   "execution_count": 66,
   "metadata": {},
   "outputs": [
    {
     "name": "stdout",
     "output_type": "stream",
     "text": [
      "Time taken to generate graph:  0.02031850814819336\n",
      "Time taken to find path:  0.0010030269622802734\n",
      "Path taken:  [0, 0, 1, 2, 4, -1, -2, -2, -2, -2, -2, -3, -4, -4, -3, -2, -1, 0, 1, 0, 0, 0]\n",
      "Distance travelled:  30.891436677196626\n"
     ]
    },
    {
     "data": {
      "image/png": "[encoded data removed]",
      "text/plain": [
       "<Figure size 640x480 with 1 Axes>"
      ]
     },
     "metadata": {},
     "output_type": "display_data"
    }
   ],
   "source": [
    "# Generate random asteroids and minsharas\n",
    "random_asteroids, random_minsharas = generate_asteroids(minshara = True)\n",
    "\n",
    "# Plot map and path\n",
    "fig = plt.figure()\n",
    "ax = plt.gcf().gca()\n",
    "plot_map_and_path(ax, random_asteroids, random_minsharas)"
   ]
  },
  {
   "cell_type": "code",
   "execution_count": null,
   "metadata": {},
   "outputs": [],
   "source": []
  }
 ],
 "metadata": {
  "kernelspec": {
   "display_name": "scicomp",
   "language": "python",
   "name": "python3"
  },
  "language_info": {
   "codemirror_mode": {
    "name": "ipython",
    "version": 3
   },
   "file_extension": ".py",
   "mimetype": "text/x-python",
   "name": "python",
   "nbconvert_exporter": "python",
   "pygments_lexer": "ipython3",
   "version": "3.9.18"
  }
 },
 "nbformat": 4,
 "nbformat_minor": 2
}
